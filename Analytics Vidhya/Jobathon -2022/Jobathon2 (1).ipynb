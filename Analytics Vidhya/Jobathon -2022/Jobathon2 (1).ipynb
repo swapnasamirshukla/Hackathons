{
 "cells": [
  {
   "cell_type": "markdown",
   "id": "bcbae4fc",
   "metadata": {},
   "source": [
    "### Analytics Vidhya Jobathon - Feb 2022 - Swapna Samir Shukla ###"
   ]
  },
  {
   "cell_type": "markdown",
   "id": "b7be948b",
   "metadata": {},
   "source": [
    "#### Approach ####\n",
    "<br> The problem was formulated as a Simple Regression Model with H20 AutoML. I chose H20 AutoML as it takes away the manual effort involved in Hyperparameter Tuning, and is faster, so that we can spend more time on understanding the Data </br>\n",
    "\n",
    "<br> Steps Involved : </br>\n",
    "1) Data Preporocessing : Tried various transformations on Views and Followers, such as Log Transform, Sqrt Transform but there wasn't much improvement in R2 score\n",
    "\n",
    "Age Binning : Binning was done to group age into equal sized Quantiles. Performed Better than Manual Binning. This is because manual binning introduces skewness in the data, and the feature loses its relative importance\n",
    "\n",
    "2) Feature Engineering : Created a Feature called Views/Followers which is a simple representation for number of views per followers\n",
    "\n",
    "3) Outlier Detection and Removal : Used Box Plots to detect and remove Outliers. Data with Engagement Score of < 1.025 were removed\n",
    "\n",
    "4) Modelling : Ran H2o AutoMl which did a 5 fold CV, and chose a stacked GBM as the final model. The CV scores were consistent"
   ]
  },
  {
   "cell_type": "markdown",
   "id": "f19843e7",
   "metadata": {},
   "source": [
    "#### What did not Work ####\n",
    "\n",
    "1) User-User Collaborative Filtering gave a Public LB R2 score of less than 0.4 (around 0.38) and was therefore ignored at the expence of Tree Based Regression Algorithm\n",
    "\n",
    "#### Future Scope ####\n",
    "ALS ( Alternating Least Squares) Algorithm works on distributed systems. ALS is implemented in Apache Spark ML and is usually used to solve large scale collaborative filtering problems\n",
    "For reference refer to my past work where I built a Recommendation System using ALS : https://github.com/swapnasamirshukla/ALS-Recommendation"
   ]
  },
  {
   "cell_type": "code",
   "execution_count": 1,
   "id": "0da1f0f2",
   "metadata": {},
   "outputs": [],
   "source": [
    "# Import Libraries\n",
    "import warnings\n",
    "warnings.filterwarnings('ignore')\n",
    "import pandas as pd\n",
    "import numpy as np\n",
    "import seaborn as sns\n",
    "import scipy\n",
    "import matplotlib.pyplot as plt"
   ]
  },
  {
   "cell_type": "code",
   "execution_count": 2,
   "id": "bedb4163",
   "metadata": {},
   "outputs": [
    {
     "data": {
      "text/html": [
       "<div>\n",
       "<style scoped>\n",
       "    .dataframe tbody tr th:only-of-type {\n",
       "        vertical-align: middle;\n",
       "    }\n",
       "\n",
       "    .dataframe tbody tr th {\n",
       "        vertical-align: top;\n",
       "    }\n",
       "\n",
       "    .dataframe thead th {\n",
       "        text-align: right;\n",
       "    }\n",
       "</style>\n",
       "<table border=\"1\" class=\"dataframe\">\n",
       "  <thead>\n",
       "    <tr style=\"text-align: right;\">\n",
       "      <th></th>\n",
       "      <th>row_id</th>\n",
       "      <th>user_id</th>\n",
       "      <th>category_id</th>\n",
       "      <th>video_id</th>\n",
       "      <th>age</th>\n",
       "      <th>gender</th>\n",
       "      <th>profession</th>\n",
       "      <th>followers</th>\n",
       "      <th>views</th>\n",
       "      <th>engagement_score</th>\n",
       "    </tr>\n",
       "  </thead>\n",
       "  <tbody>\n",
       "    <tr>\n",
       "      <th>0</th>\n",
       "      <td>1</td>\n",
       "      <td>19990</td>\n",
       "      <td>37</td>\n",
       "      <td>128</td>\n",
       "      <td>24</td>\n",
       "      <td>Male</td>\n",
       "      <td>Student</td>\n",
       "      <td>180</td>\n",
       "      <td>1000</td>\n",
       "      <td>4.33</td>\n",
       "    </tr>\n",
       "    <tr>\n",
       "      <th>1</th>\n",
       "      <td>2</td>\n",
       "      <td>5304</td>\n",
       "      <td>32</td>\n",
       "      <td>132</td>\n",
       "      <td>14</td>\n",
       "      <td>Female</td>\n",
       "      <td>Student</td>\n",
       "      <td>330</td>\n",
       "      <td>714</td>\n",
       "      <td>1.79</td>\n",
       "    </tr>\n",
       "    <tr>\n",
       "      <th>2</th>\n",
       "      <td>3</td>\n",
       "      <td>1840</td>\n",
       "      <td>12</td>\n",
       "      <td>24</td>\n",
       "      <td>19</td>\n",
       "      <td>Male</td>\n",
       "      <td>Student</td>\n",
       "      <td>180</td>\n",
       "      <td>138</td>\n",
       "      <td>4.35</td>\n",
       "    </tr>\n",
       "    <tr>\n",
       "      <th>3</th>\n",
       "      <td>4</td>\n",
       "      <td>12597</td>\n",
       "      <td>23</td>\n",
       "      <td>112</td>\n",
       "      <td>19</td>\n",
       "      <td>Male</td>\n",
       "      <td>Student</td>\n",
       "      <td>220</td>\n",
       "      <td>613</td>\n",
       "      <td>3.77</td>\n",
       "    </tr>\n",
       "    <tr>\n",
       "      <th>4</th>\n",
       "      <td>5</td>\n",
       "      <td>13626</td>\n",
       "      <td>23</td>\n",
       "      <td>112</td>\n",
       "      <td>27</td>\n",
       "      <td>Male</td>\n",
       "      <td>Working Professional</td>\n",
       "      <td>220</td>\n",
       "      <td>613</td>\n",
       "      <td>3.13</td>\n",
       "    </tr>\n",
       "  </tbody>\n",
       "</table>\n",
       "</div>"
      ],
      "text/plain": [
       "   row_id  user_id  category_id  video_id  age  gender            profession  \\\n",
       "0       1    19990           37       128   24    Male               Student   \n",
       "1       2     5304           32       132   14  Female               Student   \n",
       "2       3     1840           12        24   19    Male               Student   \n",
       "3       4    12597           23       112   19    Male               Student   \n",
       "4       5    13626           23       112   27    Male  Working Professional   \n",
       "\n",
       "   followers  views  engagement_score  \n",
       "0        180   1000              4.33  \n",
       "1        330    714              1.79  \n",
       "2        180    138              4.35  \n",
       "3        220    613              3.77  \n",
       "4        220    613              3.13  "
      ]
     },
     "execution_count": 2,
     "metadata": {},
     "output_type": "execute_result"
    }
   ],
   "source": [
    "train = pd.read_csv(\"train_0OECtn8.csv\")\n",
    "train.head()"
   ]
  },
  {
   "cell_type": "code",
   "execution_count": 3,
   "id": "6ced3405",
   "metadata": {},
   "outputs": [],
   "source": [
    "# Quantile Binning of Age Column to make uniformly distributed bins\n",
    "train['bins'] = pd.qcut(train['age'], q=4, precision=1, labels=['teens','early20','late20','others'])"
   ]
  },
  {
   "cell_type": "code",
   "execution_count": 4,
   "id": "68491b5c",
   "metadata": {},
   "outputs": [
    {
     "data": {
      "text/plain": [
       "(array([23739., 26488., 19196., 19774.]),\n",
       " array([0.  , 0.75, 1.5 , 2.25, 3.  ]),\n",
       " <BarContainer object of 4 artists>)"
      ]
     },
     "execution_count": 4,
     "metadata": {},
     "output_type": "execute_result"
    },
    {
     "data": {
      "image/png": "[encoded data removed]",
      "text/plain": [
       "<Figure size 432x288 with 1 Axes>"
      ]
     },
     "metadata": {
      "needs_background": "light"
     },
     "output_type": "display_data"
    }
   ],
   "source": [
    "# Visualise Results\n",
    "plt.hist(train['bins'],bins=4)"
   ]
  },
  {
   "cell_type": "code",
   "execution_count": 51,
   "id": "d35f76f3",
   "metadata": {},
   "outputs": [],
   "source": [
    "# Get the bin ranges\n",
    "cats,bins = pd.qcut(train['age'], q=4,retbins=True)"
   ]
  },
  {
   "cell_type": "code",
   "execution_count": 56,
   "id": "060ab520",
   "metadata": {},
   "outputs": [
    {
     "data": {
      "text/plain": [
       "0         (23.0, 32.0]\n",
       "1        (9.999, 18.0]\n",
       "2         (18.0, 23.0]\n",
       "3         (18.0, 23.0]\n",
       "4         (23.0, 32.0]\n",
       "             ...      \n",
       "89192     (23.0, 32.0]\n",
       "89193     (23.0, 32.0]\n",
       "89194     (23.0, 32.0]\n",
       "89195     (32.0, 68.0]\n",
       "89196    (9.999, 18.0]\n",
       "Name: age, Length: 89197, dtype: category\n",
       "Categories (4, interval[float64, right]): [(9.999, 18.0] < (18.0, 23.0] < (23.0, 32.0] < (32.0, 68.0]]"
      ]
     },
     "execution_count": 56,
     "metadata": {},
     "output_type": "execute_result"
    }
   ],
   "source": [
    "cats"
   ]
  },
  {
   "cell_type": "code",
   "execution_count": 55,
   "id": "aa0d94a8",
   "metadata": {},
   "outputs": [
    {
     "data": {
      "text/plain": [
       "array([10., 18., 23., 32., 68.])"
      ]
     },
     "execution_count": 55,
     "metadata": {},
     "output_type": "execute_result"
    }
   ],
   "source": [
    "bins"
   ]
  },
  {
   "cell_type": "code",
   "execution_count": 5,
   "id": "ef8dc677",
   "metadata": {},
   "outputs": [
    {
     "data": {
      "image/png": "[encoded data removed]",
      "text/plain": [
       "<Figure size 432x288 with 1 Axes>"
      ]
     },
     "metadata": {
      "needs_background": "light"
     },
     "output_type": "display_data"
    }
   ],
   "source": [
    "plt.hist(train['views'])\n",
    "plt.show()"
   ]
  },
  {
   "cell_type": "code",
   "execution_count": 6,
   "id": "12c39f92",
   "metadata": {},
   "outputs": [],
   "source": [
    "train['log_followers'] = np.log(train['followers'])"
   ]
  },
  {
   "cell_type": "code",
   "execution_count": 8,
   "id": "70d538bf",
   "metadata": {},
   "outputs": [
    {
     "data": {
      "image/png": "[encoded data removed]",
      "text/plain": [
       "<Figure size 432x288 with 1 Axes>"
      ]
     },
     "metadata": {
      "needs_background": "light"
     },
     "output_type": "display_data"
    }
   ],
   "source": [
    "plt.hist(train['log_followers'])\n",
    "plt.show()\n",
    "# This gives a roughly normal distribution for Followers"
   ]
  },
  {
   "cell_type": "code",
   "execution_count": 11,
   "id": "87edfc24",
   "metadata": {},
   "outputs": [],
   "source": [
    "# Create a new feature : views_per_followers\n",
    "train['views_per_followers'] = train['views']/train['followers']"
   ]
  },
  {
   "cell_type": "code",
   "execution_count": 12,
   "id": "7f775369",
   "metadata": {},
   "outputs": [
    {
     "data": {
      "image/png": "[encoded data removed]",
      "text/plain": [
       "<Figure size 432x288 with 1 Axes>"
      ]
     },
     "metadata": {
      "needs_background": "light"
     },
     "output_type": "display_data"
    }
   ],
   "source": [
    "plt.hist(train['views']/train['log_followers'])\n",
    "plt.show()"
   ]
  },
  {
   "cell_type": "code",
   "execution_count": 13,
   "id": "d04628aa",
   "metadata": {},
   "outputs": [
    {
     "data": {
      "image/png": "[encoded data removed]",
      "text/plain": [
       "<Figure size 432x288 with 1 Axes>"
      ]
     },
     "metadata": {
      "needs_background": "light"
     },
     "output_type": "display_data"
    }
   ],
   "source": [
    "plt.hist(train['views']/train['followers'])\n",
    "plt.show()"
   ]
  },
  {
   "cell_type": "code",
   "execution_count": 14,
   "id": "01d75876",
   "metadata": {},
   "outputs": [],
   "source": [
    "df_train = train.copy()"
   ]
  },
  {
   "cell_type": "code",
   "execution_count": 15,
   "id": "07e3fb94",
   "metadata": {},
   "outputs": [
    {
     "data": {
      "text/html": [
       "<div>\n",
       "<style scoped>\n",
       "    .dataframe tbody tr th:only-of-type {\n",
       "        vertical-align: middle;\n",
       "    }\n",
       "\n",
       "    .dataframe tbody tr th {\n",
       "        vertical-align: top;\n",
       "    }\n",
       "\n",
       "    .dataframe thead th {\n",
       "        text-align: right;\n",
       "    }\n",
       "</style>\n",
       "<table border=\"1\" class=\"dataframe\">\n",
       "  <thead>\n",
       "    <tr style=\"text-align: right;\">\n",
       "      <th></th>\n",
       "      <th>row_id</th>\n",
       "      <th>user_id</th>\n",
       "      <th>category_id</th>\n",
       "      <th>video_id</th>\n",
       "      <th>age</th>\n",
       "      <th>gender</th>\n",
       "      <th>profession</th>\n",
       "      <th>followers</th>\n",
       "      <th>views</th>\n",
       "      <th>engagement_score</th>\n",
       "      <th>bins</th>\n",
       "      <th>log_followers</th>\n",
       "      <th>views_per_followers</th>\n",
       "    </tr>\n",
       "  </thead>\n",
       "  <tbody>\n",
       "    <tr>\n",
       "      <th>0</th>\n",
       "      <td>1</td>\n",
       "      <td>19990</td>\n",
       "      <td>37</td>\n",
       "      <td>128</td>\n",
       "      <td>24</td>\n",
       "      <td>Male</td>\n",
       "      <td>Student</td>\n",
       "      <td>180</td>\n",
       "      <td>1000</td>\n",
       "      <td>4.33</td>\n",
       "      <td>late20</td>\n",
       "      <td>5.192957</td>\n",
       "      <td>5.555556</td>\n",
       "    </tr>\n",
       "    <tr>\n",
       "      <th>1</th>\n",
       "      <td>2</td>\n",
       "      <td>5304</td>\n",
       "      <td>32</td>\n",
       "      <td>132</td>\n",
       "      <td>14</td>\n",
       "      <td>Female</td>\n",
       "      <td>Student</td>\n",
       "      <td>330</td>\n",
       "      <td>714</td>\n",
       "      <td>1.79</td>\n",
       "      <td>teens</td>\n",
       "      <td>5.799093</td>\n",
       "      <td>2.163636</td>\n",
       "    </tr>\n",
       "    <tr>\n",
       "      <th>2</th>\n",
       "      <td>3</td>\n",
       "      <td>1840</td>\n",
       "      <td>12</td>\n",
       "      <td>24</td>\n",
       "      <td>19</td>\n",
       "      <td>Male</td>\n",
       "      <td>Student</td>\n",
       "      <td>180</td>\n",
       "      <td>138</td>\n",
       "      <td>4.35</td>\n",
       "      <td>early20</td>\n",
       "      <td>5.192957</td>\n",
       "      <td>0.766667</td>\n",
       "    </tr>\n",
       "    <tr>\n",
       "      <th>3</th>\n",
       "      <td>4</td>\n",
       "      <td>12597</td>\n",
       "      <td>23</td>\n",
       "      <td>112</td>\n",
       "      <td>19</td>\n",
       "      <td>Male</td>\n",
       "      <td>Student</td>\n",
       "      <td>220</td>\n",
       "      <td>613</td>\n",
       "      <td>3.77</td>\n",
       "      <td>early20</td>\n",
       "      <td>5.393628</td>\n",
       "      <td>2.786364</td>\n",
       "    </tr>\n",
       "    <tr>\n",
       "      <th>4</th>\n",
       "      <td>5</td>\n",
       "      <td>13626</td>\n",
       "      <td>23</td>\n",
       "      <td>112</td>\n",
       "      <td>27</td>\n",
       "      <td>Male</td>\n",
       "      <td>Working Professional</td>\n",
       "      <td>220</td>\n",
       "      <td>613</td>\n",
       "      <td>3.13</td>\n",
       "      <td>late20</td>\n",
       "      <td>5.393628</td>\n",
       "      <td>2.786364</td>\n",
       "    </tr>\n",
       "  </tbody>\n",
       "</table>\n",
       "</div>"
      ],
      "text/plain": [
       "   row_id  user_id  category_id  video_id  age  gender            profession  \\\n",
       "0       1    19990           37       128   24    Male               Student   \n",
       "1       2     5304           32       132   14  Female               Student   \n",
       "2       3     1840           12        24   19    Male               Student   \n",
       "3       4    12597           23       112   19    Male               Student   \n",
       "4       5    13626           23       112   27    Male  Working Professional   \n",
       "\n",
       "   followers  views  engagement_score     bins  log_followers  \\\n",
       "0        180   1000              4.33   late20       5.192957   \n",
       "1        330    714              1.79    teens       5.799093   \n",
       "2        180    138              4.35  early20       5.192957   \n",
       "3        220    613              3.77  early20       5.393628   \n",
       "4        220    613              3.13   late20       5.393628   \n",
       "\n",
       "   views_per_followers  \n",
       "0             5.555556  \n",
       "1             2.163636  \n",
       "2             0.766667  \n",
       "3             2.786364  \n",
       "4             2.786364  "
      ]
     },
     "execution_count": 15,
     "metadata": {},
     "output_type": "execute_result"
    }
   ],
   "source": [
    "df_train.head()"
   ]
  },
  {
   "cell_type": "code",
   "execution_count": 16,
   "id": "efe13e41",
   "metadata": {},
   "outputs": [
    {
     "data": {
      "image/png": "[encoded data removed]",
      "text/plain": [
       "<Figure size 432x288 with 1 Axes>"
      ]
     },
     "metadata": {
      "needs_background": "light"
     },
     "output_type": "display_data"
    }
   ],
   "source": [
    "plt.hist(train['engagement_score'])\n",
    "plt.show()"
   ]
  },
  {
   "cell_type": "code",
   "execution_count": 17,
   "id": "16588d2c",
   "metadata": {},
   "outputs": [
    {
     "data": {
      "image/png": "[encoded data removed]",
      "text/plain": [
       "<Figure size 432x288 with 1 Axes>"
      ]
     },
     "metadata": {
      "needs_background": "light"
     },
     "output_type": "display_data"
    }
   ],
   "source": [
    "# Target Transformation makes it roughly normal, but is of no use for unseen data\n",
    "plt.hist((np.sqrt(max(train['engagement_score'])-train['engagement_score'])))\n",
    "plt.show()"
   ]
  },
  {
   "cell_type": "code",
   "execution_count": 18,
   "id": "8fb53aa8",
   "metadata": {},
   "outputs": [],
   "source": [
    "# This doesn't appear in the final model\n",
    "df_train['score_transformed'] = np.sqrt(train['engagement_score'])"
   ]
  },
  {
   "cell_type": "code",
   "execution_count": 19,
   "id": "8963d309",
   "metadata": {},
   "outputs": [
    {
     "data": {
      "text/plain": [
       "<AxesSubplot:xlabel='engagement_score'>"
      ]
     },
     "execution_count": 19,
     "metadata": {},
     "output_type": "execute_result"
    },
    {
     "data": {
      "image/png": "[encoded data removed]",
      "text/plain": [
       "<Figure size 432x288 with 1 Axes>"
      ]
     },
     "metadata": {
      "needs_background": "light"
     },
     "output_type": "display_data"
    }
   ],
   "source": [
    "sns.boxplot(df_train['engagement_score']) # Outlier Detection"
   ]
  },
  {
   "cell_type": "code",
   "execution_count": 20,
   "id": "04b9ff77",
   "metadata": {},
   "outputs": [
    {
     "data": {
      "text/plain": [
       "<AxesSubplot:xlabel='score_transformed'>"
      ]
     },
     "execution_count": 20,
     "metadata": {},
     "output_type": "execute_result"
    },
    {
     "data": {
      "image/png": "[encoded data removed]",
      "text/plain": [
       "<Figure size 432x288 with 1 Axes>"
      ]
     },
     "metadata": {
      "needs_background": "light"
     },
     "output_type": "display_data"
    }
   ],
   "source": [
    "sns.boxplot(df_train['score_transformed'])"
   ]
  },
  {
   "cell_type": "code",
   "execution_count": 21,
   "id": "3fd57358",
   "metadata": {},
   "outputs": [],
   "source": [
    "# Use Interquartile method for outlier Removal\n",
    "Q1 = np.percentile(df_train['engagement_score'], 25,\n",
    "                   interpolation = 'midpoint')\n",
    "\n",
    "Q3 = np.percentile(df_train['engagement_score'], 75,\n",
    "                   interpolation = 'midpoint')\n",
    "IQR = Q3-Q1"
   ]
  },
  {
   "cell_type": "code",
   "execution_count": 22,
   "id": "63afb67c",
   "metadata": {},
   "outputs": [
    {
     "name": "stdout",
     "output_type": "stream",
     "text": [
      "Upper bound: 6.025\n",
      "Lower bound: 1.0250000000000004\n"
     ]
    }
   ],
   "source": [
    "# Above Upper bound\n",
    "upper = (Q3+1.5*IQR)\n",
    " \n",
    "print(\"Upper bound:\",upper)\n",
    "#print(np.where(upper))\n",
    " \n",
    "# Below Lower bound\n",
    "lower = (Q1-1.5*IQR)\n",
    "print(\"Lower bound:\", lower)\n",
    "#print(np.where(lower))"
   ]
  },
  {
   "cell_type": "code",
   "execution_count": 24,
   "id": "79e159a6",
   "metadata": {},
   "outputs": [
    {
     "data": {
      "text/html": [
       "<div>\n",
       "<style scoped>\n",
       "    .dataframe tbody tr th:only-of-type {\n",
       "        vertical-align: middle;\n",
       "    }\n",
       "\n",
       "    .dataframe tbody tr th {\n",
       "        vertical-align: top;\n",
       "    }\n",
       "\n",
       "    .dataframe thead th {\n",
       "        text-align: right;\n",
       "    }\n",
       "</style>\n",
       "<table border=\"1\" class=\"dataframe\">\n",
       "  <thead>\n",
       "    <tr style=\"text-align: right;\">\n",
       "      <th></th>\n",
       "      <th>row_id</th>\n",
       "      <th>user_id</th>\n",
       "      <th>category_id</th>\n",
       "      <th>video_id</th>\n",
       "      <th>age</th>\n",
       "      <th>gender</th>\n",
       "      <th>profession</th>\n",
       "      <th>followers</th>\n",
       "      <th>views</th>\n",
       "      <th>engagement_score</th>\n",
       "      <th>bins</th>\n",
       "      <th>log_followers</th>\n",
       "      <th>views_per_followers</th>\n",
       "      <th>score_transformed</th>\n",
       "    </tr>\n",
       "  </thead>\n",
       "  <tbody>\n",
       "    <tr>\n",
       "      <th>12</th>\n",
       "      <td>13</td>\n",
       "      <td>7626</td>\n",
       "      <td>5</td>\n",
       "      <td>72</td>\n",
       "      <td>36</td>\n",
       "      <td>Female</td>\n",
       "      <td>Working Professional</td>\n",
       "      <td>240</td>\n",
       "      <td>229</td>\n",
       "      <td>0.00</td>\n",
       "      <td>others</td>\n",
       "      <td>5.480639</td>\n",
       "      <td>0.954167</td>\n",
       "      <td>0.000000</td>\n",
       "    </tr>\n",
       "    <tr>\n",
       "      <th>136</th>\n",
       "      <td>137</td>\n",
       "      <td>26246</td>\n",
       "      <td>30</td>\n",
       "      <td>83</td>\n",
       "      <td>26</td>\n",
       "      <td>Female</td>\n",
       "      <td>Other</td>\n",
       "      <td>230</td>\n",
       "      <td>862</td>\n",
       "      <td>0.02</td>\n",
       "      <td>late20</td>\n",
       "      <td>5.438079</td>\n",
       "      <td>3.747826</td>\n",
       "      <td>0.141421</td>\n",
       "    </tr>\n",
       "    <tr>\n",
       "      <th>148</th>\n",
       "      <td>149</td>\n",
       "      <td>20200</td>\n",
       "      <td>32</td>\n",
       "      <td>133</td>\n",
       "      <td>13</td>\n",
       "      <td>Female</td>\n",
       "      <td>Student</td>\n",
       "      <td>330</td>\n",
       "      <td>714</td>\n",
       "      <td>0.40</td>\n",
       "      <td>teens</td>\n",
       "      <td>5.799093</td>\n",
       "      <td>2.163636</td>\n",
       "      <td>0.632456</td>\n",
       "    </tr>\n",
       "    <tr>\n",
       "      <th>177</th>\n",
       "      <td>178</td>\n",
       "      <td>26505</td>\n",
       "      <td>12</td>\n",
       "      <td>30</td>\n",
       "      <td>25</td>\n",
       "      <td>Female</td>\n",
       "      <td>Other</td>\n",
       "      <td>180</td>\n",
       "      <td>138</td>\n",
       "      <td>0.69</td>\n",
       "      <td>late20</td>\n",
       "      <td>5.192957</td>\n",
       "      <td>0.766667</td>\n",
       "      <td>0.830662</td>\n",
       "    </tr>\n",
       "    <tr>\n",
       "      <th>204</th>\n",
       "      <td>205</td>\n",
       "      <td>20336</td>\n",
       "      <td>11</td>\n",
       "      <td>41</td>\n",
       "      <td>36</td>\n",
       "      <td>Female</td>\n",
       "      <td>Other</td>\n",
       "      <td>250</td>\n",
       "      <td>180</td>\n",
       "      <td>0.69</td>\n",
       "      <td>others</td>\n",
       "      <td>5.521461</td>\n",
       "      <td>0.720000</td>\n",
       "      <td>0.830662</td>\n",
       "    </tr>\n",
       "    <tr>\n",
       "      <th>...</th>\n",
       "      <td>...</td>\n",
       "      <td>...</td>\n",
       "      <td>...</td>\n",
       "      <td>...</td>\n",
       "      <td>...</td>\n",
       "      <td>...</td>\n",
       "      <td>...</td>\n",
       "      <td>...</td>\n",
       "      <td>...</td>\n",
       "      <td>...</td>\n",
       "      <td>...</td>\n",
       "      <td>...</td>\n",
       "      <td>...</td>\n",
       "      <td>...</td>\n",
       "    </tr>\n",
       "    <tr>\n",
       "      <th>88618</th>\n",
       "      <td>88619</td>\n",
       "      <td>18214</td>\n",
       "      <td>19</td>\n",
       "      <td>46</td>\n",
       "      <td>18</td>\n",
       "      <td>Female</td>\n",
       "      <td>Student</td>\n",
       "      <td>230</td>\n",
       "      <td>369</td>\n",
       "      <td>0.40</td>\n",
       "      <td>teens</td>\n",
       "      <td>5.438079</td>\n",
       "      <td>1.604348</td>\n",
       "      <td>0.632456</td>\n",
       "    </tr>\n",
       "    <tr>\n",
       "      <th>88997</th>\n",
       "      <td>88998</td>\n",
       "      <td>5436</td>\n",
       "      <td>12</td>\n",
       "      <td>24</td>\n",
       "      <td>32</td>\n",
       "      <td>Female</td>\n",
       "      <td>Other</td>\n",
       "      <td>180</td>\n",
       "      <td>138</td>\n",
       "      <td>0.69</td>\n",
       "      <td>late20</td>\n",
       "      <td>5.192957</td>\n",
       "      <td>0.766667</td>\n",
       "      <td>0.830662</td>\n",
       "    </tr>\n",
       "    <tr>\n",
       "      <th>89057</th>\n",
       "      <td>89058</td>\n",
       "      <td>8242</td>\n",
       "      <td>11</td>\n",
       "      <td>40</td>\n",
       "      <td>27</td>\n",
       "      <td>Female</td>\n",
       "      <td>Other</td>\n",
       "      <td>250</td>\n",
       "      <td>180</td>\n",
       "      <td>0.00</td>\n",
       "      <td>late20</td>\n",
       "      <td>5.521461</td>\n",
       "      <td>0.720000</td>\n",
       "      <td>0.000000</td>\n",
       "    </tr>\n",
       "    <tr>\n",
       "      <th>89087</th>\n",
       "      <td>89088</td>\n",
       "      <td>5951</td>\n",
       "      <td>34</td>\n",
       "      <td>95</td>\n",
       "      <td>32</td>\n",
       "      <td>Female</td>\n",
       "      <td>Other</td>\n",
       "      <td>230</td>\n",
       "      <td>840</td>\n",
       "      <td>0.69</td>\n",
       "      <td>late20</td>\n",
       "      <td>5.438079</td>\n",
       "      <td>3.652174</td>\n",
       "      <td>0.830662</td>\n",
       "    </tr>\n",
       "    <tr>\n",
       "      <th>89096</th>\n",
       "      <td>89097</td>\n",
       "      <td>14149</td>\n",
       "      <td>45</td>\n",
       "      <td>167</td>\n",
       "      <td>10</td>\n",
       "      <td>Male</td>\n",
       "      <td>Student</td>\n",
       "      <td>280</td>\n",
       "      <td>95</td>\n",
       "      <td>0.40</td>\n",
       "      <td>teens</td>\n",
       "      <td>5.634790</td>\n",
       "      <td>0.339286</td>\n",
       "      <td>0.632456</td>\n",
       "    </tr>\n",
       "  </tbody>\n",
       "</table>\n",
       "<p>820 rows × 14 columns</p>\n",
       "</div>"
      ],
      "text/plain": [
       "       row_id  user_id  category_id  video_id  age  gender  \\\n",
       "12         13     7626            5        72   36  Female   \n",
       "136       137    26246           30        83   26  Female   \n",
       "148       149    20200           32       133   13  Female   \n",
       "177       178    26505           12        30   25  Female   \n",
       "204       205    20336           11        41   36  Female   \n",
       "...       ...      ...          ...       ...  ...     ...   \n",
       "88618   88619    18214           19        46   18  Female   \n",
       "88997   88998     5436           12        24   32  Female   \n",
       "89057   89058     8242           11        40   27  Female   \n",
       "89087   89088     5951           34        95   32  Female   \n",
       "89096   89097    14149           45       167   10    Male   \n",
       "\n",
       "                 profession  followers  views  engagement_score    bins  \\\n",
       "12     Working Professional        240    229              0.00  others   \n",
       "136                   Other        230    862              0.02  late20   \n",
       "148                 Student        330    714              0.40   teens   \n",
       "177                   Other        180    138              0.69  late20   \n",
       "204                   Other        250    180              0.69  others   \n",
       "...                     ...        ...    ...               ...     ...   \n",
       "88618               Student        230    369              0.40   teens   \n",
       "88997                 Other        180    138              0.69  late20   \n",
       "89057                 Other        250    180              0.00  late20   \n",
       "89087                 Other        230    840              0.69  late20   \n",
       "89096               Student        280     95              0.40   teens   \n",
       "\n",
       "       log_followers  views_per_followers  score_transformed  \n",
       "12          5.480639             0.954167           0.000000  \n",
       "136         5.438079             3.747826           0.141421  \n",
       "148         5.799093             2.163636           0.632456  \n",
       "177         5.192957             0.766667           0.830662  \n",
       "204         5.521461             0.720000           0.830662  \n",
       "...              ...                  ...                ...  \n",
       "88618       5.438079             1.604348           0.632456  \n",
       "88997       5.192957             0.766667           0.830662  \n",
       "89057       5.521461             0.720000           0.000000  \n",
       "89087       5.438079             3.652174           0.830662  \n",
       "89096       5.634790             0.339286           0.632456  \n",
       "\n",
       "[820 rows x 14 columns]"
      ]
     },
     "execution_count": 24,
     "metadata": {},
     "output_type": "execute_result"
    }
   ],
   "source": [
    "df_train[df_train['engagement_score']<lower] # See the data with engagement scores below Lower Bound"
   ]
  },
  {
   "cell_type": "code",
   "execution_count": 26,
   "id": "776e6073",
   "metadata": {},
   "outputs": [
    {
     "name": "stdout",
     "output_type": "stream",
     "text": [
      "New Shape:  (88377, 14)\n"
     ]
    }
   ],
   "source": [
    "# Lower bound\n",
    "lower = np.where(df_train['engagement_score'] <= (Q1-1.5*IQR))\n",
    " \n",
    "#Remove Outliers\n",
    "df_train.drop(lower[0], inplace = True)\n",
    " \n",
    "print(\"New Shape: \", df_train.shape)"
   ]
  },
  {
   "cell_type": "code",
   "execution_count": 27,
   "id": "0f91009e",
   "metadata": {},
   "outputs": [
    {
     "data": {
      "text/plain": [
       "(89197, 13)"
      ]
     },
     "execution_count": 27,
     "metadata": {},
     "output_type": "execute_result"
    }
   ],
   "source": [
    "train.shape"
   ]
  },
  {
   "cell_type": "code",
   "execution_count": 28,
   "id": "5518a4b5",
   "metadata": {},
   "outputs": [
    {
     "data": {
      "text/plain": [
       "Index(['row_id', 'user_id', 'category_id', 'video_id', 'age', 'gender',\n",
       "       'profession', 'followers', 'views', 'engagement_score', 'bins',\n",
       "       'log_followers', 'views_per_followers', 'score_transformed'],\n",
       "      dtype='object')"
      ]
     },
     "execution_count": 28,
     "metadata": {},
     "output_type": "execute_result"
    }
   ],
   "source": [
    "df_train.columns"
   ]
  },
  {
   "cell_type": "code",
   "execution_count": 29,
   "id": "0b660dab",
   "metadata": {},
   "outputs": [],
   "source": [
    "numericCols = ['followers', 'views', 'engagement_score','log_followers', 'views_per_followers']"
   ]
  },
  {
   "cell_type": "code",
   "execution_count": 30,
   "id": "64414d91",
   "metadata": {},
   "outputs": [
    {
     "data": {
      "text/plain": [
       "<AxesSubplot:>"
      ]
     },
     "execution_count": 30,
     "metadata": {},
     "output_type": "execute_result"
    },
    {
     "data": {
      "image/png": "[encoded data removed]",
      "text/plain": [
       "<Figure size 1440x1440 with 2 Axes>"
      ]
     },
     "metadata": {
      "needs_background": "light"
     },
     "output_type": "display_data"
    }
   ],
   "source": [
    "plt.figure(figsize=(20, 20))\n",
    "\n",
    "sns.heatmap(df_train[numericCols].corr(), annot=True, cmap='viridis')"
   ]
  },
  {
   "cell_type": "code",
   "execution_count": 31,
   "id": "9176a128",
   "metadata": {},
   "outputs": [],
   "source": [
    "# Prepare Data for Modelling\n",
    "train_model = df_train.drop(['followers', 'views','score_transformed','age','row_id','log_followers'],axis=1) "
   ]
  },
  {
   "cell_type": "code",
   "execution_count": 32,
   "id": "375ec2ef",
   "metadata": {},
   "outputs": [],
   "source": [
    "# test transform\n",
    "test = pd.read_csv(\"test_1zqHu22.csv\")\n",
    "def age_bin(row):\n",
    "    if row<=18:\n",
    "        return 'teens'\n",
    "    elif row>18 and row<=23:\n",
    "        return 'early20'\n",
    "    elif row>23 and row<=32:\n",
    "        return 'late20'\n",
    "    else:\n",
    "        return 'others'\n",
    "test['bins'] = test['age'].apply(age_bin)"
   ]
  },
  {
   "cell_type": "code",
   "execution_count": 33,
   "id": "2e467ccb",
   "metadata": {},
   "outputs": [],
   "source": [
    "test['views_per_followers'] = test['views']/test['followers']"
   ]
  },
  {
   "cell_type": "code",
   "execution_count": 34,
   "id": "84e93447",
   "metadata": {},
   "outputs": [],
   "source": [
    "df_test = test.copy()"
   ]
  },
  {
   "cell_type": "code",
   "execution_count": 35,
   "id": "e0cec7c5",
   "metadata": {},
   "outputs": [],
   "source": [
    "# Prepare data for Evaluation\n",
    "test_model = df_test.drop(['followers', 'views','age','row_id'],axis=1)"
   ]
  },
  {
   "cell_type": "code",
   "execution_count": 36,
   "id": "a0737338",
   "metadata": {},
   "outputs": [
    {
     "name": "stdout",
     "output_type": "stream",
     "text": [
      "Checking whether there is an H2O instance running at http://localhost:54321 ..... not found.\n",
      "Attempting to start a local H2O server...\n",
      "; Java HotSpot(TM) 64-Bit Server VM (build 25.281-b09, mixed mode)\n",
      "  Starting server from C:\\ProgramData\\Anaconda3\\Lib\\site-packages\\h2o\\backend\\bin\\h2o.jar\n",
      "  Ice root: C:\\Users\\shuklas\\AppData\\Local\\Temp\\tmptygf5gmx\n",
      "  JVM stdout: C:\\Users\\shuklas\\AppData\\Local\\Temp\\tmptygf5gmx\\h2o_shuklas_started_from_python.out\n",
      "  JVM stderr: C:\\Users\\shuklas\\AppData\\Local\\Temp\\tmptygf5gmx\\h2o_shuklas_started_from_python.err\n",
      "  Server is running at http://127.0.0.1:54321\n",
      "Connecting to H2O server at http://127.0.0.1:54321 ... successful.\n"
     ]
    },
    {
     "data": {
      "text/html": [
       "<div style=\"overflow:auto\"><table style=\"width:50%\"><tr><td>H2O_cluster_uptime:</td>\n",
       "<td>07 secs</td></tr>\n",
       "<tr><td>H2O_cluster_timezone:</td>\n",
       "<td>Asia/Kolkata</td></tr>\n",
       "<tr><td>H2O_data_parsing_timezone:</td>\n",
       "<td>UTC</td></tr>\n",
       "<tr><td>H2O_cluster_version:</td>\n",
       "<td>3.36.0.2</td></tr>\n",
       "<tr><td>H2O_cluster_version_age:</td>\n",
       "<td>19 days </td></tr>\n",
       "<tr><td>H2O_cluster_name:</td>\n",
       "<td>H2O_from_python_shuklas_4mdzz0</td></tr>\n",
       "<tr><td>H2O_cluster_total_nodes:</td>\n",
       "<td>1</td></tr>\n",
       "<tr><td>H2O_cluster_free_memory:</td>\n",
       "<td>3.408 Gb</td></tr>\n",
       "<tr><td>H2O_cluster_total_cores:</td>\n",
       "<td>12</td></tr>\n",
       "<tr><td>H2O_cluster_allowed_cores:</td>\n",
       "<td>12</td></tr>\n",
       "<tr><td>H2O_cluster_status:</td>\n",
       "<td>locked, healthy</td></tr>\n",
       "<tr><td>H2O_connection_url:</td>\n",
       "<td>http://127.0.0.1:54321</td></tr>\n",
       "<tr><td>H2O_connection_proxy:</td>\n",
       "<td>{\"http\": null, \"https\": null}</td></tr>\n",
       "<tr><td>H2O_internal_security:</td>\n",
       "<td>False</td></tr>\n",
       "<tr><td>H2O_API_Extensions:</td>\n",
       "<td>Amazon S3, Algos, Infogram, AutoML, Core V3, TargetEncoder, Core V4</td></tr>\n",
       "<tr><td>Python_version:</td>\n",
       "<td>3.9.7 final</td></tr></table></div>"
      ],
      "text/plain": [
       "--------------------------  -------------------------------------------------------------------\n",
       "H2O_cluster_uptime:         07 secs\n",
       "H2O_cluster_timezone:       Asia/Kolkata\n",
       "H2O_data_parsing_timezone:  UTC\n",
       "H2O_cluster_version:        3.36.0.2\n",
       "H2O_cluster_version_age:    19 days\n",
       "H2O_cluster_name:           H2O_from_python_shuklas_4mdzz0\n",
       "H2O_cluster_total_nodes:    1\n",
       "H2O_cluster_free_memory:    3.408 Gb\n",
       "H2O_cluster_total_cores:    12\n",
       "H2O_cluster_allowed_cores:  12\n",
       "H2O_cluster_status:         locked, healthy\n",
       "H2O_connection_url:         http://127.0.0.1:54321\n",
       "H2O_connection_proxy:       {\"http\": null, \"https\": null}\n",
       "H2O_internal_security:      False\n",
       "H2O_API_Extensions:         Amazon S3, Algos, Infogram, AutoML, Core V3, TargetEncoder, Core V4\n",
       "Python_version:             3.9.7 final\n",
       "--------------------------  -------------------------------------------------------------------"
      ]
     },
     "metadata": {},
     "output_type": "display_data"
    }
   ],
   "source": [
    "# Initiate h2o server\n",
    "import h2o\n",
    "from h2o.automl import H2OAutoML\n",
    "h2o.init()"
   ]
  },
  {
   "cell_type": "code",
   "execution_count": 37,
   "id": "2a6efb78",
   "metadata": {},
   "outputs": [
    {
     "name": "stdout",
     "output_type": "stream",
     "text": [
      "Parse progress: |████████████████████████████████████████████████████████████████| (done) 100%\n",
      "Parse progress: |████████████████████████████████████████████████████████████████| (done) 100%\n"
     ]
    }
   ],
   "source": [
    "# Convert Pandas Dataframe to H2o Frames\n",
    "train_model = h2o.H2OFrame(train_model)\n",
    "test_model = h2o.H2OFrame(test_model)\n"
   ]
  },
  {
   "cell_type": "code",
   "execution_count": 38,
   "id": "abbca120",
   "metadata": {},
   "outputs": [],
   "source": [
    "# Label Encode train Categorical Columns\n",
    "train_model['user_id'] = train_model['user_id'].asfactor()\n",
    "train_model['video_id'] = train_model['video_id'].asfactor()\n",
    "train_model['category_id'] = train_model['category_id'].asfactor()"
   ]
  },
  {
   "cell_type": "code",
   "execution_count": 39,
   "id": "3eb4cc8b",
   "metadata": {},
   "outputs": [],
   "source": [
    "# Label Encode test Categorical Columns\n",
    "test_model['user_id'] = test_model['user_id'].asfactor()\n",
    "test_model['video_id'] = test_model['video_id'].asfactor()\n",
    "test_model['category_id'] = test_model['category_id'].asfactor()"
   ]
  },
  {
   "cell_type": "code",
   "execution_count": 40,
   "id": "7533ade1",
   "metadata": {},
   "outputs": [],
   "source": [
    "# Segregate X and y Columns\n",
    "x = train_model.columns\n",
    "y = 'engagement_score'\n",
    "x.remove('engagement_score')"
   ]
  },
  {
   "cell_type": "code",
   "execution_count": 41,
   "id": "0e53d3c9",
   "metadata": {},
   "outputs": [
    {
     "name": "stdout",
     "output_type": "stream",
     "text": [
      "AutoML progress: |\n",
      "13:27:32.84: AutoML: XGBoost is not available; skipping it.\n",
      "13:27:32.117: Step 'best_of_family_xgboost' not defined in provider 'StackedEnsemble': skipping it.\n",
      "13:27:32.117: Step 'all_xgboost' not defined in provider 'StackedEnsemble': skipping it.\n",
      "\n",
      "███████████████████████████████████████████████████████████████| (done) 100%\n",
      "Model Details\n",
      "=============\n",
      "H2OStackedEnsembleEstimator :  Stacked Ensemble\n",
      "Model Key:  StackedEnsemble_AllModels_3_AutoML_1_20220214_132731\n",
      "\n",
      "No model summary for this model\n",
      "\n",
      "ModelMetricsRegressionGLM: stackedensemble\n",
      "** Reported on train data. **\n",
      "\n",
      "MSE: 0.14447887817285482\n",
      "RMSE: 0.38010377290005265\n",
      "MAE: 0.28017464663224223\n",
      "RMSLE: 0.09654641823857157\n",
      "R^2: 0.7781303052291495\n",
      "Mean Residual Deviance: 0.14447887817285482\n",
      "Null degrees of freedom: 9929\n",
      "Residual degrees of freedom: 9923\n",
      "Null deviance: 6467.625557870014\n",
      "Residual deviance: 1434.6752602564484\n",
      "AIC: 8985.323266940311\n",
      "\n",
      "ModelMetricsRegressionGLM: stackedensemble\n",
      "** Reported on cross-validation data. **\n",
      "\n",
      "MSE: 0.3459974790126345\n",
      "RMSE: 0.5882155038866576\n",
      "MAE: 0.4400954765975339\n",
      "RMSLE: 0.1473901195623357\n",
      "R^2: 0.4786315780756588\n",
      "Mean Residual Deviance: 0.3459974790126345\n",
      "Null degrees of freedom: 88376\n",
      "Residual degrees of freedom: 88371\n",
      "Null deviance: 58651.003645754885\n",
      "Residual deviance: 30578.2192026996\n",
      "AIC: 157020.44890555152\n"
     ]
    },
    {
     "data": {
      "text/plain": []
     },
     "execution_count": 41,
     "metadata": {},
     "output_type": "execute_result"
    }
   ],
   "source": [
    "# Train Model\n",
    "aml = H2OAutoML(seed=1) \n",
    "# Run AutoML for YY base models (limited to 1 hour max runtime by default)\n",
    "#aml = H2OAutoML(max_models=10, seed=1234, exclude_algos = [\"StackedEnsemble\"],\n",
    "                #sort_metric = 'rmse' \n",
    "                #balance_classes = True, \n",
    "                #sort_metric = 'logloss'\n",
    "               #)\n",
    "aml.train(x=x, y=y, training_frame=train_model)"
   ]
  },
  {
   "cell_type": "code",
   "execution_count": 42,
   "id": "9c997bf1",
   "metadata": {},
   "outputs": [
    {
     "name": "stdout",
     "output_type": "stream",
     "text": [
      "stackedensemble prediction progress: |███████████████████████████████████████████| (done) 100%\n"
     ]
    }
   ],
   "source": [
    "model = aml.leader \n",
    "preds_1 = model.predict(test_model)"
   ]
  },
  {
   "cell_type": "code",
   "execution_count": 43,
   "id": "0f0211eb",
   "metadata": {},
   "outputs": [],
   "source": [
    "submission = pd.DataFrame()\n",
    "submission['row_id'] = test['row_id']\n",
    "submission['engagement_score'] = h2o.as_list(preds_1)['predict']"
   ]
  },
  {
   "cell_type": "code",
   "execution_count": 44,
   "id": "1f107466",
   "metadata": {},
   "outputs": [],
   "source": [
    "submission.to_csv('submit-avjb2022.csv',index=False)"
   ]
  },
  {
   "cell_type": "code",
   "execution_count": null,
   "id": "037a4dd0",
   "metadata": {},
   "outputs": [],
   "source": []
  }
 ],
 "metadata": {
  "kernelspec": {
   "display_name": "Python 3 (ipykernel)",
   "language": "python",
   "name": "python3"
  },
  "language_info": {
   "codemirror_mode": {
    "name": "ipython",
    "version": 3
   },
   "file_extension": ".py",
   "mimetype": "text/x-python",
   "name": "python",
   "nbconvert_exporter": "python",
   "pygments_lexer": "ipython3",
   "version": "3.9.7"
  }
 },
 "nbformat": 4,
 "nbformat_minor": 5
}
